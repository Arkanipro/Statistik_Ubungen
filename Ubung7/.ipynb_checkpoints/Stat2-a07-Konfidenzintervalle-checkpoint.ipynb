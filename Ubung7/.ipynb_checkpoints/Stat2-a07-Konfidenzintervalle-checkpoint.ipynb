{
 "cells": [
  {
   "cell_type": "markdown",
   "metadata": {},
   "source": [
    "<p style=\"font-size:30px\">Statistik 2</p>\n",
    "Hochschule Aalen\n",
    "\n",
    "Sommersemester 2021\n",
    "\n",
    "Martin Heckmann\n",
    "\n",
    "martin.heckmann@hs-aalen.de\n",
    "\n",
    "23.06.2021"
   ]
  },
  {
   "cell_type": "markdown",
   "metadata": {},
   "source": [
    "# Assignment 6: Confidence Intervall Estimation "
   ]
  },
  {
   "cell_type": "code",
   "execution_count": null,
   "metadata": {},
   "outputs": [],
   "source": []
  },
  {
   "cell_type": "markdown",
   "metadata": {},
   "source": [
    "## Target\n",
    "Target of the assignment is to understand how to estimate confidence intervals, either via distribution assumptions or via the bootstrap.\n",
    "\n",
    "### Task 1: Confidence Interval Estimation based on Distribution Assumptions\n",
    "- As previously, randomly extract a sample of $N$ data points from the data set `americans.csv` (not differentiating between men and women).\n",
    "- Vary the size of the sample $N$ from \n",
    "$ N \\in \\{10, 50, 100\\}$\n",
    " data points\n",
    "- Calculate the confidence intervals for the three estimates:\n",
    "    - mean height (cm)\n",
    "    - mean weight (kg)\n",
    "    - count (\"does the groceries\") out of $N$ (how many of the $N$ do the groceries) \n",
    "- Assume a normal distribution of the data for height and weight and a Bernoulli distribution for \"does the groceries\" (i.e., a binomial distribution for the count of how many of $N$ do the groceries)\n",
    "- Use the formulas from the lecture\n",
    "- Repeat this for each sample size $N$ 1000 times\n",
    "- Store the results ($3\\cdot 3 \\cdot 1000$ confidence intervals) in a pandas data frame\n",
    "- Visualize the different confidence intervals as an image. Define the range from 150cm to 200cm. Color the parts in black in which the current confidence interval overlaps. Color the line in white for the remaining parts. Stack the lines such that they form an image build of horizontal lines. \n",
    "Add a gray (value 150) horizontal line at the position of the population mean of the corrsponding feature. \n",
    "You can use the following code to create an image\n",
    "```python\n",
    "# Define size of image to hold data\n",
    "img_width = 50\n",
    "img_height = 400\n",
    "\n",
    "# Dummy values for the CI limits\n",
    "CI_lower=161\n",
    "CI_upper=180\n",
    "# Create an array of the size of the image with zeros\n",
    "CI_image = numpy.zeros((img_height,img_width))\n",
    "\n",
    "# Loop through all lines\n",
    "for y in range(img_height):\n",
    "    # Set the pixels of the new line to black (zero)\n",
    "    curr_line=numpy.zeros((1,img_width))\n",
    "    # Set the pixels of the (current!) CI to white\n",
    "    curr_line[0,CI_lower-150:CI_upper-150]=255\n",
    "    CI_image[y,:] = curr_line\n",
    "\n",
    "# Use plotly to show (with Red Blue color scale)\n",
    "fig = px.imshow(CI_image, aspect='auto', color_continuous_scale=px.colors.sequential.RdBu_r)\n",
    "\n",
    "fig.show()\n",
    "````\n",
    "\n",
    "\n",
    "### Task 2: Bootstrap Confidence Interval Estimation\n",
    "- As previously, randomly extract a sample of $N$ data points from the data set `americans.csv`.\n",
    "- Vary the size of the sample $N$ from \n",
    "$ N \\in \\{10, 50, 100\\}$\n",
    " data points\n",
    "- Calculate the bootstrap confidence intervals for the three estimates:\n",
    "    - mean height (cm)\n",
    "    - mean weight (kg)\n",
    "    - count (\"does the groceries\") out of $N$ (how many of the $N$ do the groceries)  \n",
    "- Use 1000 bootstrap samples (only calculate one bootstrap confidence interval for each feature)  \n",
    "- You can use the numpy function [numpy.quantile](https://numpy.org/doc/stable/reference/generated/numpy.quantile.html) to calculate the quantiles.\n",
    "- Use the percentile and pivot method to calculate the confidence intervals.  \n",
    "- Store the two results ($3 \\cdot 1000$ bootstrap estimates and $3 \\cdot 2$ confidence intervals) in two separate pandas data frames\n",
    "- Calculate the corresponding bootstrap confidence interval when sampling 1000 times $N$ samples with replacement from the full data set.\n",
    "- Extract the first confidence interval from task 1\n",
    "- Visualize the different confidence intervals (from the bootstrap sample, from the population and the first from task 1)=\n",
    "- Print the numeric values of the different confidence intervals.\n",
    "\n",
    "\n",
    "\n",
    "\n"
   ]
  },
  {
   "cell_type": "code",
   "execution_count": null,
   "metadata": {},
   "outputs": [],
   "source": []
  },
  {
   "cell_type": "code",
   "execution_count": null,
   "metadata": {},
   "outputs": [],
   "source": []
  }
 ],
 "metadata": {
  "interpreter": {
   "hash": "bb24d674cb425a950e5a8a36b3c73c4ee1f5e3f8c4b7d987f3c8c9b244dee38b"
  },
  "kernelspec": {
   "display_name": "Python 3",
   "language": "python",
   "name": "python3"
  },
  "language_info": {
   "codemirror_mode": {
    "name": "ipython",
    "version": 3
   },
   "file_extension": ".py",
   "mimetype": "text/x-python",
   "name": "python",
   "nbconvert_exporter": "python",
   "pygments_lexer": "ipython3",
   "version": "3.8.5"
  },
  "toc": {
   "base_numbering": 1,
   "nav_menu": {},
   "number_sections": true,
   "sideBar": true,
   "skip_h1_title": false,
   "title_cell": "Table of Contents",
   "title_sidebar": "Contents",
   "toc_cell": false,
   "toc_position": {},
   "toc_section_display": true,
   "toc_window_display": true
  }
 },
 "nbformat": 4,
 "nbformat_minor": 2
}
