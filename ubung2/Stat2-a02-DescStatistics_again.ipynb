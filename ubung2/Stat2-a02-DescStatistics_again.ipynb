{
 "cells": [
  {
   "cell_type": "markdown",
   "metadata": {},
   "source": [
    "<p style=\"font-size:30px\">Statistik 2</p>\n",
    "Hochschule Aalen\n",
    "\n",
    "Sommersemester 2021\n",
    "\n",
    "Martin Heckmann\n",
    "\n",
    "martin.heckmann@hs-aalen.de\n",
    "\n",
    "02.04.2021"
   ]
  },
  {
   "cell_type": "markdown",
   "metadata": {},
   "source": [
    "# Assignment 2: Descriptive Statistics "
   ]
  },
  {
   "source": [
    "## Target\n",
    "Target of the assignment is to get acquainted with methods of descriptive statistics and their implementation in Python \n",
    "\n",
    "### Task 1\n",
    "- Randomly extract a sample of 100 data points from the data set `americans.csv`\n",
    "- Using the corresponding pandas or numpy functions calculate mean, median, mode and standard deviation from these 100 data points\n",
    "- Repeat these calculations 1000 times\n",
    "- Store the results (1000 means, medians, modes, standard deviations) in a pandas data frame\n",
    "- Visualize the results as histograms using the Plotly function [`graph_objects.Histogram`](https://plotly.com/python/histograms/#overlaid-histogram). Overlay the histograms for the means, medians and modes in one histogram using `opacity=0.75` as follows:\n",
    "```python\n",
    "fig = go.Figure()\n",
    "fig.add_trace(go.Histogram(x= ...\n",
    "fig.add_trace(go.Histogram(x= ...\n",
    "...\n",
    "fig.update_traces(opacity=0.75, ...\n",
    "fig.update_layout(\n",
    "    title='Age'\n",
    ")\n",
    "fig.show()\n",
    "````\n",
    "- Make sure you initialize the [seed](https://pynative.com/python-random-seed/) of the random generator at the beginning of your code such that you have identical results each time you run the code  \n",
    "- Select each sample of 100 points \"truly\" at random and not by selecting consecutive chunks of 100 data points. The 1000 sets of 100 data points do not need to be disjoint, i.e. the same data point can be part of many of the 1000 sets.\n",
    "\n",
    "### Task 2\n",
    "- Use the complete `americans.csv` data set to show a box plot of height (in) and weight (lb) using the Plotly Express function [`BoxPlot`](https://plotly.com/python/box-plots/)\n",
    "- From the same data, calculate the 2D relative frequency distributions (relative Häufigkeitsverteilung) of height in inches (in) and weight in pounds (lb). Use the Plotly Express function [density_heatmap](https://plotly.com/python/2D-Histogram/) using a sensible value for the number of bins and also showing marginals:\n",
    "```python\n",
    "fig = px.density_heatmap(df, x= ..., y= ... , \n",
    "        marginal_x= ..., marginal_y= ..., \n",
    "        nbinsx= ..., nbinsy= ...)\n",
    "````\n",
    "- Make three of these histograms. One for the full data set, one only for men (`sex=1`) and one only for women (`sex=2`)\n",
    "- Calculate the pairwise correlation between the following values using Pearson's and Spearman's correlation coefficient with the Pandas [`corr`](https://pandas.pydata.org/docs/reference/api/pandas.DataFrame.corr.html) function:\n",
    "    - Age, Height (in), Weight (lb), BMI, DoesGrocceries\n",
    "- Perform this correlation on the full data set and separatly for men and women    \n",
    "    \n",
    " \n"
   ],
   "cell_type": "markdown",
   "metadata": {}
  },
  {
   "cell_type": "code",
   "execution_count": null,
   "metadata": {},
   "outputs": [],
   "source": []
  },
  {
   "cell_type": "code",
   "execution_count": null,
   "metadata": {},
   "outputs": [],
   "source": []
  }
 ],
 "metadata": {
  "kernelspec": {
   "name": "Python 3.7.8 64-bit ('Stat2': conda)",
   "display_name": "Python 3.7.8 64-bit ('Stat2': conda)",
   "metadata": {
    "interpreter": {
     "hash": "bb24d674cb425a950e5a8a36b3c73c4ee1f5e3f8c4b7d987f3c8c9b244dee38b"
    }
   }
  },
  "language_info": {
   "codemirror_mode": {
    "name": "ipython",
    "version": 3
   },
   "file_extension": ".py",
   "mimetype": "text/x-python",
   "name": "python",
   "nbconvert_exporter": "python",
   "pygments_lexer": "ipython3",
   "version": "3.7.8-final"
  },
  "toc": {
   "base_numbering": 1,
   "nav_menu": {},
   "number_sections": true,
   "sideBar": true,
   "skip_h1_title": false,
   "title_cell": "Table of Contents",
   "title_sidebar": "Contents",
   "toc_cell": false,
   "toc_position": {},
   "toc_section_display": true,
   "toc_window_display": true
  }
 },
 "nbformat": 4,
 "nbformat_minor": 2
}