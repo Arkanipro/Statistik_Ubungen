{
 "cells": [
  {
   "cell_type": "markdown",
   "metadata": {},
   "source": [
    "<p style=\"font-size:30px\">Statistik 2</p>\n",
    "Hochschule Aalen\n",
    "\n",
    "Sommersemester 2021\n",
    "\n",
    "Martin Heckmann\n",
    "\n",
    "martin.heckmann@hs-aalen.de\n",
    "\n",
    "07.06.2021"
   ]
  },
  {
   "cell_type": "markdown",
   "metadata": {},
   "source": [
    "# Assignment 5: Maximum A Posteriori (MAP) Estimation "
   ]
  },
  {
   "cell_type": "code",
   "execution_count": null,
   "metadata": {},
   "outputs": [],
   "source": []
  },
  {
   "cell_type": "markdown",
   "metadata": {},
   "source": [
    "## Target\n",
    "Target of the assignment is to understand the principles of maximum a posteriori estimation.\n",
    "\n",
    "### Task 1: Maximum Liekelihood Estimation\n",
    "- As previously, randomly extract a sample of $N$ data points from the data set `americans.csv`, yet this time **use only the data from the men**.\n",
    "- Vary the size of the sample $N$ from \n",
    "$ N \\in \\{5, 10, 100\\}$\n",
    " data points\n",
    "- Repeat this for each sample size $N$ 1000 times and calculate the mean and the variance of the height and weight of the americans from these data points, i.e. calculate 1000 times mean and variance for samples of size $N=5$, then 1000 times for samples of size $N=10$, ...\n",
    "- Store the results (3*1000 means, variances) in a pandas data frame\n",
    "- Also calculate the mean and variance from the full data set of all men (population mean and variance) and store it\n",
    "- Visualize the results as separate histograms for height and weight but adding the histograms for $ N \\in \\{5, 10, 100\\}$ in one plot using the Plotly function [`graph_objects.Histogram`](https://plotly.com/python/histograms/#overlaid-histogram). Overlay the histograms using `opacity=0.75` as follows:\n",
    "```python\n",
    "fig = go.Figure()\n",
    "fig.add_trace(go.Histogram(x= ...\n",
    "fig.add_trace(go.Histogram(x= ...\n",
    "...\n",
    "fig.update_traces(opacity=0.75, ...\n",
    "fig.update_layout(\n",
    "    title='Height'\n",
    ")\n",
    "fig.show()\n",
    "````\n",
    "- Add the population mean and the means from the 1000 runs of the experiment to the plots (mean calculated from the 1000 values for for $N=5$, $N=10$, ...)\n",
    "- Make sure you initialize the [seed](https://pynative.com/python-random-seed/) of the random generator at the beginning of your code such that you have identical results each time you run the code  \n",
    "- Select each sample of $N$ points \"truly\" at random and not by selecting consecutive chunks of $N$ data points. The 1000 sets of $N$ data points do not need to be disjoint, i.e. the same data point can be part of many of the 1000 sets.\n",
    "\n",
    "### Task 2: Estiamtion of the Prior\n",
    "- From the data above calculate a prior distribution for the mean height and weight when using $ N \\in \\{5, 10, 100\\}$ data points and a normal distribution as a model.\n",
    "- More precisely, use the mean of the means (e.g. mean of mean height calcualted from 1000 draws of 5 samples) as the estimate of the mean of the prior and the variance of the means (e.g. variance of mean height calcualted from 1000 drwas of 5 samples) as the estimate of the variance of the prior.\n",
    "- This will yield a total of 6 prior distributions (one for each $ N \\in \\{5, 10, 100\\}$ for height and weight)\n",
    "- Also calculate a prior based on the data of the women. For doing this, repeat the process in task 1, but this time using only the data from the women. Then calcualte the prior as above.\n",
    "- Visualize the results in 2 plots, one for height and one for weight. Show only the fitted normal distributions and not the histograms. Use solid lines for the priors from the men and dashed lines for the priors of the women. Also add the population values (for men and women separately) to the plot.\n",
    "\n",
    "\n",
    "\n",
    "### Task 3: Maximum A Posteriori Estimation\n",
    "- Perform a maximum a posteriori (MAP) estiamtion of the height and weight of the men once using the prior from the men (matched case) and once using the prior from the women (mismatched case). \n",
    "- When perfomring the MAP estimation assume that the variance is known. Use the population variance. \n",
    "- Perform the MAP estiamtion for $ N \\in \\{5, 10, 100\\}$ using 1000 random samples. Use a different random seed from task 1 and 2 such that the drawn subsets are not identical.\n",
    "- Calculate bias, variance and MSE for the different values of $N$ using the 1000 samples and the population values as reference. Do this for the matched and mismatched case.\n",
    "- Visualize the results in a table\n",
    "\n",
    "### Task 4: Maximum A Posterior Estimation of \"does the grocceries\"\n",
    "- Repeat the whole process (ML estimation, determination of the prior, MAP estiamtion) for the feature \"does the grocceries\"\n",
    "- Use a [Beta distribution](https://docs.scipy.org/doc/scipy/reference/generated/scipy.stats.beta.html) as a prior. To estiamte the parameters $\\alpha$ and $\\beta$ of the Beta distribution you can use the following formula:\n",
    "\n",
    "$\n",
    "\\begin{align*}\n",
    "\\alpha &= - \\frac{\\mu (\\sigma^2 + \\mu^2 - \\mu)}{\\sigma^2} \\\\\n",
    "\\beta &= \\frac{(\\sigma^2 + \\mu^2 - \\mu) (\\mu - 1)}{\\sigma^2}.\n",
    "\\end{align*}\n",
    "$\n",
    "\n",
    "(https://stats.stackexchange.com/questions/12232/calculating-the-parameters-of-a-beta-distribution-using-the-mean-and-variance)\n",
    "\n",
    "where $\\mu$ and $\\sigma^2$ are the mean and variance of the means of the samples you drew for calclating the prior (e.g. mean of mean of feature \"does the grocceries\" calcualted from 1000 draws of 5 samples, variance of mean of feature \"does the grocceries\" calcualted from 1000 draws of 5 samples).\n",
    "\n",
    "\n",
    "#### Potentially useful code snippet\n",
    "```python\n",
    "\n",
    "\n",
    "# Drawing several histograms in one plot\n",
    "bin_width = 1\n",
    "fig = plotly.graph_objects.Figure()\n",
    "fig.add_trace(plotly.graph_objects.Histogram(x=data_frame[data_frame['size']==size1, name=size1,xbins=dict(size=bin_width)))\n",
    "fig.add_trace(plotly.graph_objects.Histogram(x=data_frame[data_frame['size']==size2, name=size2, xbins=dict(size=bin_width)))\n",
    "\n",
    "fig.add_scatter(x=[population_value,population_value],y=[0, hist_height],name=\"population value\")\n",
    "    \n",
    "fig.update_traces(opacity=0.75)\n",
    "fig.update_layout(\n",
    "    title=\"MSE\",\n",
    "    barmode='overlay'\n",
    ")\n",
    "fig.show()\n"
   ]
  },
  {
   "cell_type": "code",
   "execution_count": null,
   "metadata": {},
   "outputs": [],
   "source": []
  },
  {
   "cell_type": "code",
   "execution_count": null,
   "metadata": {},
   "outputs": [],
   "source": []
  }
 ],
 "metadata": {
  "kernelspec": {
   "display_name": "Python 3",
   "language": "python",
   "name": "python3"
  },
  "language_info": {
   "codemirror_mode": {
    "name": "ipython",
    "version": 3
   },
   "file_extension": ".py",
   "mimetype": "text/x-python",
   "name": "python",
   "nbconvert_exporter": "python",
   "pygments_lexer": "ipython3",
   "version": "3.8.5"
  },
  "toc": {
   "base_numbering": 1,
   "nav_menu": {},
   "number_sections": true,
   "sideBar": true,
   "skip_h1_title": false,
   "title_cell": "Table of Contents",
   "title_sidebar": "Contents",
   "toc_cell": false,
   "toc_position": {},
   "toc_section_display": true,
   "toc_window_display": true
  }
 },
 "nbformat": 4,
 "nbformat_minor": 2
}
